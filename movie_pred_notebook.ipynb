{
  "nbformat": 4,
  "nbformat_minor": 0,
  "metadata": {
    "colab": {
      "name": "movie_pred_notebook.ipynb",
      "provenance": [],
      "collapsed_sections": [],
      "authorship_tag": "ABX9TyPzFP85NjW0w6p5huFsR/ye"
    },
    "kernelspec": {
      "name": "python3",
      "display_name": "Python 3"
    },
    "language_info": {
      "name": "python"
    }
  },
  "cells": [
    {
      "cell_type": "code",
      "metadata": {
        "id": "DIMGnLoyBcwE"
      },
      "source": [
        "import pandas as pd\n",
        "import numpy as np\n",
        "from sklearn.metrics.pairwise import cosine_similarity\n",
        "from sklearn.feature_extraction.text import CountVectorizer\n"
      ],
      "execution_count": 21,
      "outputs": []
    },
    {
      "cell_type": "code",
      "metadata": {
        "id": "oTcYfSZdCAhK"
      },
      "source": [
        "df = pd.read_csv(\"/content/movie_dataset.csv\")\n",
        "df = df.fillna(\"\")"
      ],
      "execution_count": 205,
      "outputs": []
    },
    {
      "cell_type": "code",
      "metadata": {
        "colab": {
          "base_uri": "https://localhost:8080/",
          "height": 683
        },
        "id": "T78ylR4bCDYC",
        "outputId": "ceddb379-e329-4784-f063-4ca3dcebf755"
      },
      "source": [
        "df.head()"
      ],
      "execution_count": 206,
      "outputs": [
        {
          "output_type": "execute_result",
          "data": {
            "text/html": [
              "<div>\n",
              "<style scoped>\n",
              "    .dataframe tbody tr th:only-of-type {\n",
              "        vertical-align: middle;\n",
              "    }\n",
              "\n",
              "    .dataframe tbody tr th {\n",
              "        vertical-align: top;\n",
              "    }\n",
              "\n",
              "    .dataframe thead th {\n",
              "        text-align: right;\n",
              "    }\n",
              "</style>\n",
              "<table border=\"1\" class=\"dataframe\">\n",
              "  <thead>\n",
              "    <tr style=\"text-align: right;\">\n",
              "      <th></th>\n",
              "      <th>index</th>\n",
              "      <th>budget</th>\n",
              "      <th>genres</th>\n",
              "      <th>homepage</th>\n",
              "      <th>id</th>\n",
              "      <th>keywords</th>\n",
              "      <th>original_language</th>\n",
              "      <th>original_title</th>\n",
              "      <th>overview</th>\n",
              "      <th>popularity</th>\n",
              "      <th>production_companies</th>\n",
              "      <th>production_countries</th>\n",
              "      <th>release_date</th>\n",
              "      <th>revenue</th>\n",
              "      <th>runtime</th>\n",
              "      <th>spoken_languages</th>\n",
              "      <th>status</th>\n",
              "      <th>tagline</th>\n",
              "      <th>title</th>\n",
              "      <th>vote_average</th>\n",
              "      <th>vote_count</th>\n",
              "      <th>cast</th>\n",
              "      <th>crew</th>\n",
              "      <th>director</th>\n",
              "    </tr>\n",
              "  </thead>\n",
              "  <tbody>\n",
              "    <tr>\n",
              "      <th>0</th>\n",
              "      <td>0</td>\n",
              "      <td>237000000</td>\n",
              "      <td>Action Adventure Fantasy Science Fiction</td>\n",
              "      <td>http://www.avatarmovie.com/</td>\n",
              "      <td>19995</td>\n",
              "      <td>culture clash future space war space colony so...</td>\n",
              "      <td>en</td>\n",
              "      <td>Avatar</td>\n",
              "      <td>In the 22nd century, a paraplegic Marine is di...</td>\n",
              "      <td>150.437577</td>\n",
              "      <td>[{\"name\": \"Ingenious Film Partners\", \"id\": 289...</td>\n",
              "      <td>[{\"iso_3166_1\": \"US\", \"name\": \"United States o...</td>\n",
              "      <td>2009-12-10</td>\n",
              "      <td>2787965087</td>\n",
              "      <td>162</td>\n",
              "      <td>[{\"iso_639_1\": \"en\", \"name\": \"English\"}, {\"iso...</td>\n",
              "      <td>Released</td>\n",
              "      <td>Enter the World of Pandora.</td>\n",
              "      <td>Avatar</td>\n",
              "      <td>7.2</td>\n",
              "      <td>11800</td>\n",
              "      <td>Sam Worthington Zoe Saldana Sigourney Weaver S...</td>\n",
              "      <td>[{'name': 'Stephen E. Rivkin', 'gender': 0, 'd...</td>\n",
              "      <td>James Cameron</td>\n",
              "    </tr>\n",
              "    <tr>\n",
              "      <th>1</th>\n",
              "      <td>1</td>\n",
              "      <td>300000000</td>\n",
              "      <td>Adventure Fantasy Action</td>\n",
              "      <td>http://disney.go.com/disneypictures/pirates/</td>\n",
              "      <td>285</td>\n",
              "      <td>ocean drug abuse exotic island east india trad...</td>\n",
              "      <td>en</td>\n",
              "      <td>Pirates of the Caribbean: At World's End</td>\n",
              "      <td>Captain Barbossa, long believed to be dead, ha...</td>\n",
              "      <td>139.082615</td>\n",
              "      <td>[{\"name\": \"Walt Disney Pictures\", \"id\": 2}, {\"...</td>\n",
              "      <td>[{\"iso_3166_1\": \"US\", \"name\": \"United States o...</td>\n",
              "      <td>2007-05-19</td>\n",
              "      <td>961000000</td>\n",
              "      <td>169</td>\n",
              "      <td>[{\"iso_639_1\": \"en\", \"name\": \"English\"}]</td>\n",
              "      <td>Released</td>\n",
              "      <td>At the end of the world, the adventure begins.</td>\n",
              "      <td>Pirates of the Caribbean: At World's End</td>\n",
              "      <td>6.9</td>\n",
              "      <td>4500</td>\n",
              "      <td>Johnny Depp Orlando Bloom Keira Knightley Stel...</td>\n",
              "      <td>[{'name': 'Dariusz Wolski', 'gender': 2, 'depa...</td>\n",
              "      <td>Gore Verbinski</td>\n",
              "    </tr>\n",
              "    <tr>\n",
              "      <th>2</th>\n",
              "      <td>2</td>\n",
              "      <td>245000000</td>\n",
              "      <td>Action Adventure Crime</td>\n",
              "      <td>http://www.sonypictures.com/movies/spectre/</td>\n",
              "      <td>206647</td>\n",
              "      <td>spy based on novel secret agent sequel mi6</td>\n",
              "      <td>en</td>\n",
              "      <td>Spectre</td>\n",
              "      <td>A cryptic message from Bond’s past sends him o...</td>\n",
              "      <td>107.376788</td>\n",
              "      <td>[{\"name\": \"Columbia Pictures\", \"id\": 5}, {\"nam...</td>\n",
              "      <td>[{\"iso_3166_1\": \"GB\", \"name\": \"United Kingdom\"...</td>\n",
              "      <td>2015-10-26</td>\n",
              "      <td>880674609</td>\n",
              "      <td>148</td>\n",
              "      <td>[{\"iso_639_1\": \"fr\", \"name\": \"Fran\\u00e7ais\"},...</td>\n",
              "      <td>Released</td>\n",
              "      <td>A Plan No One Escapes</td>\n",
              "      <td>Spectre</td>\n",
              "      <td>6.3</td>\n",
              "      <td>4466</td>\n",
              "      <td>Daniel Craig Christoph Waltz L\\u00e9a Seydoux ...</td>\n",
              "      <td>[{'name': 'Thomas Newman', 'gender': 2, 'depar...</td>\n",
              "      <td>Sam Mendes</td>\n",
              "    </tr>\n",
              "    <tr>\n",
              "      <th>3</th>\n",
              "      <td>3</td>\n",
              "      <td>250000000</td>\n",
              "      <td>Action Crime Drama Thriller</td>\n",
              "      <td>http://www.thedarkknightrises.com/</td>\n",
              "      <td>49026</td>\n",
              "      <td>dc comics crime fighter terrorist secret ident...</td>\n",
              "      <td>en</td>\n",
              "      <td>The Dark Knight Rises</td>\n",
              "      <td>Following the death of District Attorney Harve...</td>\n",
              "      <td>112.312950</td>\n",
              "      <td>[{\"name\": \"Legendary Pictures\", \"id\": 923}, {\"...</td>\n",
              "      <td>[{\"iso_3166_1\": \"US\", \"name\": \"United States o...</td>\n",
              "      <td>2012-07-16</td>\n",
              "      <td>1084939099</td>\n",
              "      <td>165</td>\n",
              "      <td>[{\"iso_639_1\": \"en\", \"name\": \"English\"}]</td>\n",
              "      <td>Released</td>\n",
              "      <td>The Legend Ends</td>\n",
              "      <td>The Dark Knight Rises</td>\n",
              "      <td>7.6</td>\n",
              "      <td>9106</td>\n",
              "      <td>Christian Bale Michael Caine Gary Oldman Anne ...</td>\n",
              "      <td>[{'name': 'Hans Zimmer', 'gender': 2, 'departm...</td>\n",
              "      <td>Christopher Nolan</td>\n",
              "    </tr>\n",
              "    <tr>\n",
              "      <th>4</th>\n",
              "      <td>4</td>\n",
              "      <td>260000000</td>\n",
              "      <td>Action Adventure Science Fiction</td>\n",
              "      <td>http://movies.disney.com/john-carter</td>\n",
              "      <td>49529</td>\n",
              "      <td>based on novel mars medallion space travel pri...</td>\n",
              "      <td>en</td>\n",
              "      <td>John Carter</td>\n",
              "      <td>John Carter is a war-weary, former military ca...</td>\n",
              "      <td>43.926995</td>\n",
              "      <td>[{\"name\": \"Walt Disney Pictures\", \"id\": 2}]</td>\n",
              "      <td>[{\"iso_3166_1\": \"US\", \"name\": \"United States o...</td>\n",
              "      <td>2012-03-07</td>\n",
              "      <td>284139100</td>\n",
              "      <td>132</td>\n",
              "      <td>[{\"iso_639_1\": \"en\", \"name\": \"English\"}]</td>\n",
              "      <td>Released</td>\n",
              "      <td>Lost in our world, found in another.</td>\n",
              "      <td>John Carter</td>\n",
              "      <td>6.1</td>\n",
              "      <td>2124</td>\n",
              "      <td>Taylor Kitsch Lynn Collins Samantha Morton Wil...</td>\n",
              "      <td>[{'name': 'Andrew Stanton', 'gender': 2, 'depa...</td>\n",
              "      <td>Andrew Stanton</td>\n",
              "    </tr>\n",
              "  </tbody>\n",
              "</table>\n",
              "</div>"
            ],
            "text/plain": [
              "   index  ...           director\n",
              "0      0  ...      James Cameron\n",
              "1      1  ...     Gore Verbinski\n",
              "2      2  ...         Sam Mendes\n",
              "3      3  ...  Christopher Nolan\n",
              "4      4  ...     Andrew Stanton\n",
              "\n",
              "[5 rows x 24 columns]"
            ]
          },
          "metadata": {
            "tags": []
          },
          "execution_count": 206
        }
      ]
    },
    {
      "cell_type": "code",
      "metadata": {
        "id": "BIECxgShCEv9"
      },
      "source": [
        "def combine_data(df):\n",
        "    return f\"{df['title']} {df['genres']} {df['director']} {df['keywords']}\"\n"
      ],
      "execution_count": 207,
      "outputs": []
    },
    {
      "cell_type": "code",
      "metadata": {
        "id": "Ru1oDWbrCjJB"
      },
      "source": [
        "df['Combined'] = df.apply(combine_data,axis=1)"
      ],
      "execution_count": 208,
      "outputs": []
    },
    {
      "cell_type": "code",
      "metadata": {
        "id": "xfhRg9WdCq2m"
      },
      "source": [
        "vectorizer = CountVectorizer().fit_transform(df['Combined'])"
      ],
      "execution_count": 209,
      "outputs": []
    },
    {
      "cell_type": "code",
      "metadata": {
        "colab": {
          "base_uri": "https://localhost:8080/"
        },
        "id": "seF-SRMEDCd5",
        "outputId": "b975b131-b615-4467-98f9-054981e600d0"
      },
      "source": [
        "cosine_similarity(vectorizer)[0]"
      ],
      "execution_count": 210,
      "outputs": [
        {
          "output_type": "execute_result",
          "data": {
            "text/plain": [
              "array([1.        , 0.13608276, 0.12598816, ..., 0.        , 0.        ,\n",
              "       0.        ])"
            ]
          },
          "metadata": {
            "tags": []
          },
          "execution_count": 210
        }
      ]
    },
    {
      "cell_type": "code",
      "metadata": {
        "id": "4M7qIt2ADv7m"
      },
      "source": [
        "max = 0\n",
        "index = 0\n",
        "preds = []\n",
        "for i , val in enumerate(cosine_similarity(vectorizer)[80]):\n",
        "  preds.append((i,val))\n",
        "  \n",
        "preds.sort(key = lambda x: x[1], reverse=True)"
      ],
      "execution_count": 211,
      "outputs": []
    },
    {
      "cell_type": "code",
      "metadata": {
        "colab": {
          "base_uri": "https://localhost:8080/"
        },
        "id": "ZbuKPFFDEbTy",
        "outputId": "a0e586ca-a31a-4edb-9981-ee5ca8503344"
      },
      "source": [
        "print(preds[0:10])"
      ],
      "execution_count": 212,
      "outputs": [
        {
          "output_type": "stream",
          "text": [
            "[(80, 1.0), (237, 0.5735393346764044), (3402, 0.3779644730092272), (1481, 0.375), (4259, 0.3535533905932738), (81, 0.35), (1804, 0.34412360080584264), (410, 0.33541019662496846), (197, 0.3273268353539886), (37, 0.32274861218395134)]\n"
          ],
          "name": "stdout"
        }
      ]
    },
    {
      "cell_type": "code",
      "metadata": {
        "colab": {
          "base_uri": "https://localhost:8080/"
        },
        "id": "U2fxI8FIEcF1",
        "outputId": "2a15b6dd-9147-4d57-9eb1-be7d1b8772d3"
      },
      "source": [
        "print(f\"Title name {df.loc[80].title}\")\n",
        "for i in range(0,10):\n",
        "  if i == 0:\n",
        "    continue\n",
        "  else:\n",
        "    print(f\"{i}. {df.loc[preds[i][0]].title}\")"
      ],
      "execution_count": 213,
      "outputs": [
        {
          "output_type": "stream",
          "text": [
            "Title name Snow White and the Huntsman\n",
            "1. The Huntsman: Winter's War\n",
            "2. The Snow Queen\n",
            "3. Thunder and the House of Magic\n",
            "4. Snow White and the Seven Dwarfs\n",
            "5. Maleficent\n",
            "6. Snow White: A Tale of Terror\n",
            "7. Mirror Mirror\n",
            "8. Harry Potter and the Philosopher's Stone\n",
            "9. Oz: The Great and Powerful\n"
          ],
          "name": "stdout"
        }
      ]
    },
    {
      "cell_type": "code",
      "metadata": {
        "id": "ez_4UVm8ErQU"
      },
      "source": [
        "def get_results(search_query):\n",
        "  return df.loc[df['title'].str.lower().str.contains(search_query)]"
      ],
      "execution_count": 214,
      "outputs": []
    },
    {
      "cell_type": "code",
      "metadata": {
        "colab": {
          "base_uri": "https://localhost:8080/"
        },
        "id": "h2hrWKCULaTl",
        "outputId": "8da6b431-87c2-4279-a36f-66bc2913f72a"
      },
      "source": [
        "dfx = get_id(\"jurassic park\")\n",
        "print(dfx)"
      ],
      "execution_count": 294,
      "outputs": [
        {
          "output_type": "stream",
          "text": [
            "     index  ...                                           Combined\n",
            "334    334  ...  Jurassic Park III Adventure Action Thriller Sc...\n",
            "508    508  ...  The Lost World: Jurassic Park Adventure Action...\n",
            "675    675  ...  Jurassic Park Adventure Science Fiction Steven...\n",
            "\n",
            "[3 rows x 25 columns]\n"
          ],
          "name": "stdout"
        }
      ]
    },
    {
      "cell_type": "code",
      "metadata": {
        "id": "dLeVS2GhOXyL"
      },
      "source": [
        "def generate_predictions(model,df,main_df):\n",
        "  as_list = list(df['index'])\n",
        "  for j in as_list:\n",
        "    preds = []\n",
        "    for index, val in enumerate(model[j]):\n",
        "      preds.append((index,val))\n",
        "    \n",
        "    preds.sort(key= lambda x : x[1], reverse=True)\n",
        "    print(f\"Title name {main_df.loc[j].title}\")\n",
        "    for k in range(0,10):\n",
        "      if k == 0:\n",
        "        continue\n",
        "      else:\n",
        "        print(f\"{k}. {main_df.loc[preds[k][0]].title}\")"
      ],
      "execution_count": 299,
      "outputs": []
    },
    {
      "cell_type": "code",
      "metadata": {
        "colab": {
          "base_uri": "https://localhost:8080/"
        },
        "id": "RbQjqBIXLdQ6",
        "outputId": "eff02140-7955-4e9d-9124-b49f4afc75ed"
      },
      "source": [
        "generate_predictions(dfx,df)\n",
        "\n"
      ],
      "execution_count": 296,
      "outputs": [
        {
          "output_type": "stream",
          "text": [
            "Title name Jurassic Park III\n",
            "1. The Lost World: Jurassic Park\n",
            "2. Jurassic Park\n",
            "3. Jurassic World\n",
            "4. G.I. Joe: Retaliation\n",
            "5. Star Trek III: The Search for Spock\n",
            "6. G.I. Joe: The Rise of Cobra\n",
            "7. The Island\n",
            "8. Paycheck\n",
            "9. Babylon A.D.\n",
            "Title name The Lost World: Jurassic Park\n",
            "1. Jurassic Park\n",
            "2. Jurassic Park III\n",
            "3. Jurassic World\n",
            "4. Raiders of the Lost Ark\n",
            "5. The Lovers\n",
            "6. Indiana Jones and the Last Crusade\n",
            "7. Armageddon\n",
            "8. Indiana Jones and the Kingdom of the Crystal Skull\n",
            "9. Journey 2: The Mysterious Island\n",
            "Title name Jurassic Park\n",
            "1. The Lost World: Jurassic Park\n",
            "2. Jurassic Park III\n",
            "3. Jurassic World\n",
            "4. E.T. the Extra-Terrestrial\n",
            "5. War of the Worlds\n",
            "6. A.I. Artificial Intelligence\n",
            "7. Journey 2: The Mysterious Island\n",
            "8. Cutthroat Island\n",
            "9. After Earth\n"
          ],
          "name": "stdout"
        }
      ]
    },
    {
      "cell_type": "code",
      "metadata": {
        "colab": {
          "base_uri": "https://localhost:8080/"
        },
        "id": "3ytJGL9bQD5B",
        "outputId": "e3bcc61c-d091-4f61-a736-35e7e549ad9c"
      },
      "source": [
        "df.loc[94]"
      ],
      "execution_count": 215,
      "outputs": [
        {
          "output_type": "execute_result",
          "data": {
            "text/plain": [
              "index                                                                  94\n",
              "budget                                                          170000000\n",
              "genres                                   Action Science Fiction Adventure\n",
              "homepage                                      http://marvel.com/guardians\n",
              "id                                                                 118340\n",
              "keywords                  marvel comic spaceship space outer space orphan\n",
              "original_language                                                      en\n",
              "original_title                                    Guardians of the Galaxy\n",
              "overview                Light years from Earth, 26 years after being a...\n",
              "popularity                                                        481.099\n",
              "production_companies    [{\"name\": \"Marvel Studios\", \"id\": 420}, {\"name...\n",
              "production_countries    [{\"iso_3166_1\": \"GB\", \"name\": \"United Kingdom\"...\n",
              "release_date                                                   2014-07-30\n",
              "revenue                                                         773328629\n",
              "runtime                                                               121\n",
              "spoken_languages                 [{\"iso_639_1\": \"en\", \"name\": \"English\"}]\n",
              "status                                                           Released\n",
              "tagline                                       All heroes start somewhere.\n",
              "title                                             Guardians of the Galaxy\n",
              "vote_average                                                          7.9\n",
              "vote_count                                                           9742\n",
              "cast                    Chris Pratt Zoe Saldana Dave Bautista Vin Dies...\n",
              "crew                    [{'name': 'Craig Wood', 'gender': 2, 'departme...\n",
              "director                                                       James Gunn\n",
              "Combined                Guardians of the Galaxy Action Science Fiction...\n",
              "Name: 94, dtype: object"
            ]
          },
          "metadata": {
            "tags": []
          },
          "execution_count": 215
        }
      ]
    },
    {
      "cell_type": "code",
      "metadata": {
        "id": "UTdaTcoTNWMK"
      },
      "source": [
        "import pickle\n",
        "import sys\n",
        "model = cosine_similarity(vectorizer)\n",
        "pickle.dump(model,open(\"model.sav\",'wb'))"
      ],
      "execution_count": 312,
      "outputs": []
    },
    {
      "cell_type": "code",
      "metadata": {
        "colab": {
          "base_uri": "https://localhost:8080/"
        },
        "id": "qRe_JnAIZF-a",
        "outputId": "1469eaca-806d-47dd-e647-87ec64bebfe7"
      },
      "source": [
        "imported_model = pickle.load(open(\"model.sav\",'rb'))\n",
        "print(sys.getsizeof(imported_model))\n",
        "dfi = get_id(\"hobbit\")\n",
        "generate_predictions(imported_model,dfi,df)\n"
      ],
      "execution_count": 316,
      "outputs": [
        {
          "output_type": "stream",
          "text": [
            "112\n",
            "Title name The Hobbit: The Battle of the Five Armies\n",
            "1. The Lord of the Rings: The Fellowship of the Ring\n",
            "2. The Lord of the Rings: The Two Towers\n",
            "3. The Lord of the Rings: The Return of the King\n",
            "4. The Hobbit: The Desolation of Smaug\n",
            "5. The Hobbit: An Unexpected Journey\n",
            "6. The Mummy: Tomb of the Dragon Emperor\n",
            "7. The Chronicles of Narnia: The Lion, the Witch and the Wardrobe\n",
            "8. Pirates of the Caribbean: The Curse of the Black Pearl\n",
            "9. The Adventurer: The Curse of the Midas Box\n",
            "Title name The Hobbit: The Desolation of Smaug\n",
            "1. The Lord of the Rings: The Fellowship of the Ring\n",
            "2. The Hobbit: The Battle of the Five Armies\n",
            "3. The Lord of the Rings: The Two Towers\n",
            "4. The Hobbit: An Unexpected Journey\n",
            "5. The Lord of the Rings: The Return of the King\n",
            "6. The Mummy: Tomb of the Dragon Emperor\n",
            "7. The Adventurer: The Curse of the Midas Box\n",
            "8. The Chronicles of Narnia: The Lion, the Witch and the Wardrobe\n",
            "9. Harry Potter and the Order of the Phoenix\n",
            "Title name The Hobbit: An Unexpected Journey\n",
            "1. The Hobbit: The Battle of the Five Armies\n",
            "2. The Lord of the Rings: The Fellowship of the Ring\n",
            "3. The Lord of the Rings: The Two Towers\n",
            "4. The Hobbit: The Desolation of Smaug\n",
            "5. The Lord of the Rings: The Return of the King\n",
            "6. Warcraft\n",
            "7. The Borrowers\n",
            "8. The Mummy: Tomb of the Dragon Emperor\n",
            "9. The Scorpion King\n"
          ],
          "name": "stdout"
        }
      ]
    },
    {
      "cell_type": "code",
      "metadata": {
        "id": "Wg3cFhUhZSch"
      },
      "source": [
        ""
      ],
      "execution_count": null,
      "outputs": []
    }
  ]
}